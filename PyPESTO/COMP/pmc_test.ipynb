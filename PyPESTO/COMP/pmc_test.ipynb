{
 "cells": [
  {
   "cell_type": "code",
   "execution_count": 1,
   "metadata": {},
   "outputs": [],
   "source": [
    "import pymc as pm\n",
    "\n",
    "\n"
   ]
  },
  {
   "cell_type": "code",
   "execution_count": null,
   "metadata": {},
   "outputs": [],
   "source": [
    "def log_uniform(name, lower, upper):\n",
    "    log_value = pm.Uniform(f'log_{name}', lower=lower, upper=upper)\n",
    "    return pm.Deterministic(name, 10 ** log_value)\n",
    "\n",
    "with pm.Model():\n",
    "    \n",
    "    r1 = log_uniform('r1', -3, 3)\n",
    "    r2 = log_uniform('r2', -3, 3)\n",
    "    \n",
    "    "
   ]
  }
 ],
 "metadata": {
  "kernelspec": {
   "display_name": "Python 3 (ipykernel)",
   "language": "python",
   "name": "python3"
  }
 },
 "nbformat": 4,
 "nbformat_minor": 2
}
