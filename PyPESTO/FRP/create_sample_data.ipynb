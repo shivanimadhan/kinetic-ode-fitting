{
 "cells": [
  {
   "cell_type": "code",
   "execution_count": null,
   "metadata": {},
   "outputs": [],
   "source": [
    "import numpy as np\n",
    "import pandas as pd\n",
    "import matplotlib.pyplot as plt\n",
    "\n",
    "# Function for analytical_a (obs_a)\n",
    "def analytical_a(t, a0, b0, k1=0.8, k2=0.6):\n",
    "    return k2 * (a0 + b0) / (k1 + k2) + (\n",
    "        k2 * (a0 + b0) / (k1 + k2)\n",
    "    ) * np.exp((-k1 - k2) * t)\n",
    "    \n",
    "# def analytical_a(t, a0, b0, k1=0.8, k2=0.6):\n",
    "#     return k2 * (a0 + b0) / (k1 + k2) + (\n",
    "#         np.abs(k1*a0 - k2*b0) / (k1 + k2)\n",
    "#     ) * np.exp(-(k1 + k2)*t)\n",
    "\n",
    "k1_true = 0.5\n",
    "k2_true = 0.05\n",
    "\n",
    "def analytical_a(t, a0, b0, k1=0.5, k2=0.05):\n",
    "    alpha = k1 + k2\n",
    "    beta = k2 * (a0 + b0)\n",
    "    \n",
    "    return beta / alpha + np.abs(alpha*a0 - beta)/alpha * np.exp(-alpha*t)\n",
    "\n",
    "\n",
    "# conditions = [(1.25, 0.25), (1.5, 0.3), (1.75, 0.35)]  # Example conditions\n",
    "conditions = [(2.0, 0.0), (1.5, 0.5), (1.0, 1.0), (0.5, 1.5)]\n",
    "num_conditions = len(conditions)\n",
    "times = np.linspace(0, 3, 10)\n",
    "sigma = 0.00\n",
    "\n",
    "# Initialize an empty dataframe\n",
    "measurement_df = pd.DataFrame(columns=['observableId', 'simulationConditionId', 'time', 'measurement'])\n",
    "\n",
    "conditions_data = []\n",
    "\n",
    "for i, (a0, b0) in enumerate(conditions, start=1):\n",
    "    measurements_a = [analytical_a(t, a0, b0, k1_true, k2_true) for t in times] + sigma * np.random.randn(len(times))\n",
    "    measurements_b = a0 + b0 - measurements_a\n",
    "\n",
    "    # Create dataframes for obs_a and obs_b\n",
    "    df_a = pd.DataFrame({\n",
    "        'observableId': ['obs_a'] * len(times),\n",
    "        'simulationConditionId': [f'c_{i}'] * len(times),\n",
    "        'time': times,\n",
    "        'measurement': measurements_a\n",
    "    })\n",
    "\n",
    "    df_b = pd.DataFrame({\n",
    "        'observableId': ['obs_b'] * len(times),\n",
    "        'simulationConditionId': [f'c_{i}'] * len(times),\n",
    "        'time': times,\n",
    "        'measurement': measurements_b\n",
    "    })\n",
    "\n",
    "    # Append to the main dataframe\n",
    "    measurement_df = pd.concat([measurement_df, df_a, df_b], ignore_index=True)\n",
    "    # measurement_df = pd.concat([measurement_df, df_a], ignore_index=True)\n",
    "    \n",
    "    # Add to conditions data\n",
    "    # conditions_data.append({'conditionId': f'c_{i}', 'a0': a0, 'b0': b0})\n",
    "    conditions_data.append({\n",
    "                            'conditionId': f'c_{i}', \n",
    "                            'conditionName': f'c_{i}',\n",
    "                            'A': a0,\n",
    "                            'B': b0})\n",
    "\n",
    "# Convert conditions data to dataframe\n",
    "conditions_df = pd.DataFrame(conditions_data)\n",
    "\n",
    "# Save the dataframe to a file\n",
    "# measurement_df.to_csv('doc/example/TEST_conversion_reaction/multiple_conditions/measurements.tsv', sep='\\t', index=False)\n",
    "measurement_df.to_csv('/SBML/PyPESTO/TEST_conversion/TEST_conversion_reaction/measurements.tsv', sep='\\t', index=False)\n",
    "\n",
    "conditions_df.to_csv('/SBML/PyPESTO/TEST_conversion/TEST_conversion_reaction/multiple_conditions/conditions.tsv', sep='\\t', index=False)"
   ]
  },
  {
   "cell_type": "code",
   "execution_count": 41,
   "metadata": {},
   "outputs": [],
   "source": [
    "import amici\n",
    "\n",
    "# sbml_file = f\"./{model_name}/{model_name}.xml\"\n",
    "model_name = 'FRP'\n",
    "model_output_dir = 'tmp/' + model_name\n",
    "sbml_file = '/SBML/PyPESTO/FRP/sbml_model.xml'\n",
    "# Create an SbmlImporter instance for our SBML model\n",
    "sbml_importer = amici.SbmlImporter(sbml_file)"
   ]
  },
  {
   "cell_type": "code",
   "execution_count": 42,
   "metadata": {},
   "outputs": [],
   "source": [
    "sbml_importer.sbml2amici(model_name, model_output_dir, verbose=False)\n",
    "# solver = model.getSolver()"
   ]
  },
  {
   "cell_type": "code",
   "execution_count": 43,
   "metadata": {},
   "outputs": [],
   "source": [
    "model_module = amici.import_model_module(model_name, model_output_dir)"
   ]
  },
  {
   "cell_type": "code",
   "execution_count": 55,
   "metadata": {},
   "outputs": [
    {
     "name": "stdout",
     "output_type": "stream",
     "text": [
      "Model parameters:  ['kd', 'f', 'kpAA', 'kpAB', 'kpBA', 'kpBB']\n",
      "Model observables: ['yI', 'yR', 'yA', 'yB', 'yRA', 'yRB', 'yPAA', 'yPAB', 'yPBA', 'yPBB', 'yfPAA', 'yfPAB', 'yfPBA', 'yfPBB', 'yPA', 'yPB', 'yc']\n",
      "Model states:      ['I', 'R', 'A', 'B', 'RA', 'RB', 'PAA', 'PAB', 'PBA', 'PBB']\n"
     ]
    }
   ],
   "source": [
    "model = model_module.getModel()\n",
    "\n",
    "print(\"Model parameters: \", list(model.getParameterIds()))\n",
    "print(\"Model observables:\", list(model.getObservableIds()))\n",
    "print(\"Model states:     \", list(model.getStateIds()))"
   ]
  },
  {
   "cell_type": "code",
   "execution_count": 64,
   "metadata": {},
   "outputs": [
    {
     "data": {
      "text/plain": [
       "(10000000000.0, 0.5, 2.0, 0.5, 10.0, 0.1)"
      ]
     },
     "execution_count": 64,
     "metadata": {},
     "output_type": "execute_result"
    }
   ],
   "source": [
    "model.setParameterByName('kd', 1e10)\n",
    "model.setParameterByName('kpAA', 2.0)\n",
    "model.setParameterByName('kpAB', 0.5)\n",
    "model.setParameterByName('kpBA', 10.0)\n",
    "model.setParameterByName('kpBB', 0.1)\n",
    "model.getParameters()"
   ]
  },
  {
   "cell_type": "code",
   "execution_count": 65,
   "metadata": {},
   "outputs": [],
   "source": [
    "model.setInitialStates([5e-3, 0, 2.1, 0.9, 0, 0, 0, 0, 0, 0])"
   ]
  },
  {
   "cell_type": "code",
   "execution_count": 71,
   "metadata": {},
   "outputs": [],
   "source": [
    "import numpy as np\n",
    "timepoints = np.linspace(0, 100, 10)\n",
    "model.setTimepoints(timepoints)\n",
    "\n",
    "solver = model.getSolver()\n",
    "solver.setAbsoluteTolerance(1e-10)\n",
    "# solver.step"
   ]
  },
  {
   "cell_type": "code",
   "execution_count": 78,
   "metadata": {},
   "outputs": [],
   "source": [
    "for i in range(1000):\n",
    "    rdata = amici.runAmiciSimulation(model, solver)"
   ]
  },
  {
   "cell_type": "code",
   "execution_count": 81,
   "metadata": {},
   "outputs": [
    {
     "data": {
      "text/plain": [
       "[<matplotlib.lines.Line2D at 0xffff6848b700>]"
      ]
     },
     "execution_count": 81,
     "metadata": {},
     "output_type": "execute_result"
    },
    {
     "data": {
      "image/png": "[encoded data removed]",
      "text/plain": [
       "<Figure size 640x480 with 1 Axes>"
      ]
     },
     "metadata": {},
     "output_type": "display_data"
    }
   ],
   "source": [
    "import matplotlib.pyplot as plt\n",
    "\n",
    "plt.plot(rdata.by_id('A'), 'o')\n",
    "plt.plot(rdata.by_id('B'), 'o')"
   ]
  },
  {
   "cell_type": "code",
   "execution_count": 82,
   "metadata": {},
   "outputs": [
    {
     "data": {
      "text/plain": [
       "[<matplotlib.lines.Line2D at 0xffff684ff850>]"
      ]
     },
     "execution_count": 82,
     "metadata": {},
     "output_type": "execute_result"
    },
    {
     "data": {
      "image/png": "[encoded data removed]",
      "text/plain": [
       "<Figure size 640x480 with 1 Axes>"
      ]
     },
     "metadata": {},
     "output_type": "display_data"
    }
   ],
   "source": [
    "plt.plot(rdata.by_id('PAA'))\n",
    "plt.plot(rdata.by_id('PAB'))\n",
    "plt.plot(rdata.by_id('PBA'))\n",
    "plt.plot(rdata.by_id('PBB'))"
   ]
  },
  {
   "cell_type": "code",
   "execution_count": 84,
   "metadata": {},
   "outputs": [
    {
     "data": {
      "image/png": "[encoded data removed]",
      "text/plain": [
       "<Figure size 640x480 with 1 Axes>"
      ]
     },
     "metadata": {},
     "output_type": "display_data"
    }
   ],
   "source": [
    "import amici.plotting\n",
    "amici.plotting.plot_state_trajectories(rdata, model=None)"
   ]
  },
  {
   "cell_type": "code",
   "execution_count": 85,
   "metadata": {},
   "outputs": [
    {
     "data": {
      "image/png": "[encoded data removed]",
      "text/plain": [
       "<Figure size 640x480 with 1 Axes>"
      ]
     },
     "metadata": {},
     "output_type": "display_data"
    }
   ],
   "source": [
    "amici.plotting.plot_expressions(\n",
    "    \"A + B\", rdata=rdata\n",
    ")"
   ]
  },
  {
   "cell_type": "code",
   "execution_count": 79,
   "metadata": {},
   "outputs": [
    {
     "name": "stdout",
     "output_type": "stream",
     "text": [
      "          ts:  [  0.          11.11111111  22.22222222  33.33333333  44.44444444\n",
      "  55.55555556  66.66666667  77.77777778  88.88888889 100.        ]\n",
      "           x:  [[ 5.00000000e-003  0.00000000e+000  2.10000000e+000  9.00000000e-001\n",
      "   0.00000000e+000  0.00000000e+000  0.00000000e+000  0.00000000e+000\n",
      "   0.00000000e+000  0.00000000e+000]\n",
      " [-2.92274648e-276  6.45948877e-012  1.86127312e+000  8.76172140e-001\n",
      "   4.67717133e-011  3.31062750e-014  4.37184282e-003  1.14390425e-004\n",
      "   5.13228706e-004  5.37997131e-007]\n",
      " [-1.47487004e-298  2.05386260e-013  1.64781234e+000  8.52625025e-001\n",
      "   1.16579132e-012 -3.45282001e-015  4.31708087e-003  1.25384593e-004\n",
      "   5.56886424e-004  6.48113234e-007]\n",
      " [ 2.72420926e-299 -5.24711672e-012  1.45731771e+000  8.29753835e-001\n",
      "  -2.60918787e-011  7.35547560e-015  4.25755859e-003  1.37542653e-004\n",
      "   6.04116577e-004  7.82214809e-007]\n",
      " [-3.64770151e-304  1.84282162e-011  1.28736263e+000  8.07542621e-001\n",
      "   6.89345152e-011  9.46490817e-013  4.19287076e-003  1.51008830e-004\n",
      "   6.55174333e-004  9.45988281e-007]\n",
      " [-4.76946469e-316 -2.80016155e-011  1.13577632e+000  7.85976163e-001\n",
      "  -7.72788836e-011 -2.57537703e-012  4.12258215e-003  1.65949407e-004\n",
      "   7.10321909e-004  1.14664482e-006]\n",
      " [ 0.00000000e+000 -2.69025761e-013  1.00061694e+000  7.65039995e-001\n",
      "   3.37627151e-012 -1.25205447e-013  4.04622415e-003  1.82556667e-004\n",
      "   7.69825870e-004  1.39330877e-006]\n",
      " [ 0.00000000e+000 -4.97532049e-016  8.80147565e-001  7.44720443e-001\n",
      "   2.00789581e-015 -1.23877311e-014  3.96329725e-003  2.01054247e-004\n",
      "   8.33950773e-004  1.69772691e-006]\n",
      " [ 0.00000000e+000 -1.69793352e-014  7.72814592e-001  7.25004666e-001\n",
      "  -7.13351289e-015  7.13122384e-012  3.87326909e-003  2.21703095e-004\n",
      "   9.02952828e-004  2.07498134e-006]\n",
      " [ 0.00000000e+000 -5.77219771e-014  6.77228723e-001  7.05880713e-001\n",
      "   3.83363039e-014  5.35954220e-011  3.77557683e-003  2.44809303e-004\n",
      "   9.77069148e-004  2.54466538e-006]]\n",
      "          x0:  [0.005 0.    2.1   0.9   0.    0.    0.    0.    0.    0.   ]\n",
      "        x_ss:  [nan nan nan nan nan nan nan nan nan nan]\n",
      "          sx:  None\n",
      "         sx0:  None\n",
      "       sx_ss:  None\n",
      "           y:  [[ 5.00000000e-003  0.00000000e+000  2.10000000e+000  9.00000000e-001\n",
      "   0.00000000e+000  0.00000000e+000  0.00000000e+000  0.00000000e+000\n",
      "   0.00000000e+000  0.00000000e+000  0.00000000e+000  0.00000000e+000\n",
      "   0.00000000e+000  0.00000000e+000  1.00000000e-010  1.00000000e-010\n",
      "   1.00000000e+000]\n",
      " [-2.92274648e-276  6.45948877e-012  1.86127312e+000  8.76172140e-001\n",
      "   4.67717133e-011  3.31062750e-014  4.37184282e-003  1.14390425e-004\n",
      "   5.13228706e-004  5.37997131e-007  8.94939349e-001  9.95317984e-001\n",
      "   1.05060631e-001  4.68114547e-003  4.88507162e-003  1.14928522e-004\n",
      "   1.00000000e+000]\n",
      " [-1.47487004e-298  2.05386260e-013  1.64781234e+000  8.52625025e-001\n",
      "   1.16579132e-012 -3.45282001e-015  4.31708087e-003  1.25384593e-004\n",
      "   5.56886424e-004  6.48113234e-007  8.85742665e-001  9.94856790e-001\n",
      "   1.14257314e-001  5.14241691e-003  4.87396739e-003  1.26032806e-004\n",
      "   1.00000000e+000]\n",
      " [ 2.72420926e-299 -5.24711672e-012  1.45731771e+000  8.29753835e-001\n",
      "  -2.60918787e-011  7.35547560e-015  4.25755859e-003  1.37542653e-004\n",
      "   6.04116577e-004  7.82214809e-007  8.75738990e-001  9.94344370e-001\n",
      "   1.24260989e-001  5.65490685e-003  4.86167526e-003  1.38324968e-004\n",
      "   1.00000000e+000]\n",
      " [-3.64770151e-304  1.84282162e-011  1.28736263e+000  8.07542621e-001\n",
      "   6.89345152e-011  9.46490817e-013  4.19287076e-003  1.51008830e-004\n",
      "   6.55174333e-004  9.45988281e-007  8.64858019e-001  9.93773888e-001\n",
      "   1.35141961e-001  6.22545352e-003  4.84804519e-003  1.51954918e-004\n",
      "   1.00000000e+000]\n",
      " [-4.76946469e-316 -2.80016155e-011  1.13577632e+000  7.85976163e-001\n",
      "  -7.72788836e-011 -2.57537703e-012  4.12258215e-003  1.65949407e-004\n",
      "   7.10321909e-004  1.14664482e-006  8.53023775e-001  9.93137216e-001\n",
      "   1.46976204e-001  6.86218569e-003  4.83290416e-003  1.67096151e-004\n",
      "   1.00000000e+000]\n",
      " [ 0.00000000e+000 -2.69025761e-013  1.00061694e+000  7.65039995e-001\n",
      "   3.37627151e-012 -1.25205447e-013  4.04622415e-003  1.82556667e-004\n",
      "   7.69825870e-004  1.39330877e-006  8.40154078e-001  9.92425071e-001\n",
      "   1.59845901e-001  7.57438540e-003  4.81605012e-003  1.83950076e-004\n",
      "   1.00000000e+000]\n",
      " [ 0.00000000e+000 -4.97532049e-016  8.80147565e-001  7.44720443e-001\n",
      "   2.00789581e-015 -1.23877311e-014  3.96329725e-003  2.01054247e-004\n",
      "   8.33950773e-004  1.69772691e-006  8.26160571e-001  9.91626094e-001\n",
      "   1.73839408e-001  8.37341328e-003  4.79724813e-003  2.02752074e-004\n",
      "   1.00000000e+000]\n",
      " [ 0.00000000e+000 -1.69793352e-014  7.72814592e-001  7.25004666e-001\n",
      "  -7.13351289e-015  7.13122384e-012  3.87326909e-003  2.21703095e-004\n",
      "   9.02952828e-004  2.07498134e-006  8.10948292e-001  9.90727061e-001\n",
      "   1.89051687e-001  9.27249197e-003  4.77622202e-003  2.23778177e-004\n",
      "   1.00000000e+000]\n",
      " [ 0.00000000e+000 -5.77219771e-014  6.77228723e-001  7.05880713e-001\n",
      "   3.83363039e-014  5.35954220e-011  3.77557683e-003  2.44809303e-004\n",
      "   9.77069148e-004  2.54466538e-006  7.94415736e-001  9.89712054e-001\n",
      "   2.05584243e-001  1.02875420e-002  4.75264608e-003  2.47354069e-004\n",
      "   1.00000000e+000]]\n",
      "      sigmay:  [[1. 1. 1. 1. 1. 1. 1. 1. 1. 1. 1. 1. 1. 1. 1. 1. 1.]\n",
      " [1. 1. 1. 1. 1. 1. 1. 1. 1. 1. 1. 1. 1. 1. 1. 1. 1.]\n",
      " [1. 1. 1. 1. 1. 1. 1. 1. 1. 1. 1. 1. 1. 1. 1. 1. 1.]\n",
      " [1. 1. 1. 1. 1. 1. 1. 1. 1. 1. 1. 1. 1. 1. 1. 1. 1.]\n",
      " [1. 1. 1. 1. 1. 1. 1. 1. 1. 1. 1. 1. 1. 1. 1. 1. 1.]\n",
      " [1. 1. 1. 1. 1. 1. 1. 1. 1. 1. 1. 1. 1. 1. 1. 1. 1.]\n",
      " [1. 1. 1. 1. 1. 1. 1. 1. 1. 1. 1. 1. 1. 1. 1. 1. 1.]\n",
      " [1. 1. 1. 1. 1. 1. 1. 1. 1. 1. 1. 1. 1. 1. 1. 1. 1.]\n",
      " [1. 1. 1. 1. 1. 1. 1. 1. 1. 1. 1. 1. 1. 1. 1. 1. 1.]\n",
      " [1. 1. 1. 1. 1. 1. 1. 1. 1. 1. 1. 1. 1. 1. 1. 1. 1.]]\n",
      "          sy:  None\n",
      "     ssigmay:  None\n",
      "           z:  None\n",
      "          rz:  None\n",
      "      sigmaz:  None\n",
      "          sz:  None\n",
      "         srz:  None\n",
      "     ssigmaz:  None\n",
      "        sllh:  None\n",
      "       s2llh:  None\n",
      "           J:  [[-1.00000000e+10  0.00000000e+00  0.00000000e+00  0.00000000e+00\n",
      "   0.00000000e+00  0.00000000e+00  0.00000000e+00  0.00000000e+00\n",
      "   0.00000000e+00  0.00000000e+00]\n",
      " [ 1.00000000e+10 -1.42504552e+00  1.15443954e-13  5.77219771e-15\n",
      "   0.00000000e+00  0.00000000e+00  0.00000000e+00  0.00000000e+00\n",
      "   0.00000000e+00  0.00000000e+00]\n",
      " [ 0.00000000e+00 -1.35445745e+00 -1.19788322e-02  0.00000000e+00\n",
      "  -1.35445745e+00 -6.77228723e+00 -1.35445745e+00 -6.77228723e+00\n",
      "  -1.35445745e+00 -6.77228723e+00]\n",
      " [ 0.00000000e+00 -7.05880713e-02  0.00000000e+00 -2.40105839e-03\n",
      "  -3.52940357e-01 -7.05880713e-02 -3.52940357e-01 -7.05880713e-02\n",
      "  -3.52940357e-01 -7.05880713e-02]\n",
      " [ 0.00000000e+00  1.35445745e+00 -1.92116562e-13 -1.91681519e-14\n",
      "  -1.70739780e+00  0.00000000e+00  0.00000000e+00  0.00000000e+00\n",
      "   0.00000000e+00  0.00000000e+00]\n",
      " [ 0.00000000e+00  7.05880713e-02 -5.35954220e-10 -5.36531439e-12\n",
      "   0.00000000e+00 -6.84287530e+00  0.00000000e+00  0.00000000e+00\n",
      "   0.00000000e+00  0.00000000e+00]\n",
      " [ 0.00000000e+00  0.00000000e+00  1.95413830e-03 -1.88778842e-03\n",
      "   1.35445745e+00  0.00000000e+00 -3.52940357e-01  0.00000000e+00\n",
      "   1.35445745e+00  0.00000000e+00]\n",
      " [ 0.00000000e+00  0.00000000e+00 -2.44809303e-03  2.35184206e-03\n",
      "   3.52940357e-01  0.00000000e+00  3.52940357e-01 -6.84287530e+00\n",
      "   3.52940357e-01  0.00000000e+00]\n",
      " [ 0.00000000e+00  0.00000000e+00  5.19401927e-04 -4.88534574e-04\n",
      "   0.00000000e+00  6.77228723e+00  0.00000000e+00  6.77228723e+00\n",
      "  -1.70739780e+00  6.77228723e+00]\n",
      " [ 0.00000000e+00  0.00000000e+00 -2.54466538e-05  2.44809357e-05\n",
      "   0.00000000e+00  7.05880713e-02  0.00000000e+00  7.05880713e-02\n",
      "   0.00000000e+00 -6.77228723e+00]]\n",
      "        xdot:  [-0.00000000e+00  8.22564447e-14 -8.11240922e-03 -1.69486081e-03\n",
      " -1.43637283e-13 -3.66750864e-10 -9.15485094e-06  2.20103214e-06\n",
      "  6.90677013e-06  4.74154800e-08]\n",
      "      status:  0\n",
      "         llh:  nan\n",
      "        chi2:  nan\n",
      "         res:  [0. 0. 0. 0. 0. 0. 0. 0. 0. 0. 0. 0. 0. 0. 0. 0. 0. 0. 0. 0. 0. 0. 0. 0.\n",
      " 0. 0. 0. 0. 0. 0. 0. 0. 0. 0. 0. 0. 0. 0. 0. 0. 0. 0. 0. 0. 0. 0. 0. 0.\n",
      " 0. 0. 0. 0. 0. 0. 0. 0. 0. 0. 0. 0. 0. 0. 0. 0. 0. 0. 0. 0. 0. 0. 0. 0.\n",
      " 0. 0. 0. 0. 0. 0. 0. 0. 0. 0. 0. 0. 0. 0. 0. 0. 0. 0. 0. 0. 0. 0. 0. 0.\n",
      " 0. 0. 0. 0. 0. 0. 0. 0. 0. 0. 0. 0. 0. 0. 0. 0. 0. 0. 0. 0. 0. 0. 0. 0.\n",
      " 0. 0. 0. 0. 0. 0. 0. 0. 0. 0. 0. 0. 0. 0. 0. 0. 0. 0. 0. 0. 0. 0. 0. 0.\n",
      " 0. 0. 0. 0. 0. 0. 0. 0. 0. 0. 0. 0. 0. 0. 0. 0. 0. 0. 0. 0. 0. 0. 0. 0.\n",
      " 0. 0.]\n",
      "        sres:  None\n",
      "         FIM:  None\n",
      "           w:  [[ 1.00000000e-010  1.00000000e-010  0.00000000e+000  0.00000000e+000\n",
      "   0.00000000e+000  0.00000000e+000  5.00000000e+007  0.00000000e+000\n",
      "   0.00000000e+000  0.00000000e+000  0.00000000e+000  0.00000000e+000\n",
      "   0.00000000e+000  0.00000000e+000  0.00000000e+000  0.00000000e+000\n",
      "   0.00000000e+000  0.00000000e+000  0.00000000e+000  0.00000000e+000\n",
      "   0.00000000e+000]\n",
      " [ 4.88507162e-003  1.14928522e-004  8.94939349e-001  9.95317984e-001\n",
      "   1.05060631e-001  4.68114547e-003 -2.92274648e-266  2.40457457e-011\n",
      "   5.65962410e-013  1.74109866e-010  2.04900361e-011  6.16198198e-013\n",
      "   2.90067958e-015  1.62743871e-002  1.91524344e-003  2.12911824e-003\n",
      "   1.00225704e-005  1.91051759e-003  2.24838347e-004  1.00135960e-005\n",
      "   4.71378098e-008]\n",
      " [ 4.87396739e-003  1.26032806e-004  8.85742665e-001  9.94856790e-001\n",
      "   1.14257314e-001  5.14241691e-003 -1.47487004e-288  6.76876030e-013\n",
      "   1.75117465e-014  3.84201067e-012  4.96991429e-013 -5.68959944e-014\n",
      "  -2.94396075e-016  1.42274783e-002  1.84042559e-003  2.06610280e-003\n",
      "   1.06906042e-005  1.83528865e-003  2.37407651e-004  1.06796899e-005\n",
      "   5.52597562e-008]\n",
      " [ 4.86167526e-003  1.38324968e-004  8.75738990e-001  9.94344370e-001\n",
      "   1.24260989e-001  5.65490685e-003  2.72420926e-289 -1.52934323e-011\n",
      "  -4.35381523e-013 -7.60483141e-011 -1.08249182e-011  1.07192649e-013\n",
      "   6.10323409e-016  1.24092311e-002  1.76636278e-003  2.00443345e-003\n",
      "   1.14126544e-005  1.76077958e-003  2.50634023e-004  1.13993550e-005\n",
      "   6.49045738e-008]\n",
      " [ 4.84804519e-003  1.51954918e-004  8.64858019e-001  9.93773888e-001\n",
      "   1.35141961e-001  6.22545352e-003 -3.64770151e-294  4.74475936e-011\n",
      "   1.48815700e-012  1.77487437e-010  2.78337795e-011  1.21847690e-011\n",
      "   7.64331676e-014  1.07954902e-002  1.69296092e-003  1.94403124e-003\n",
      "   1.21946066e-005  1.68689390e-003  2.64540599e-004  1.21782996e-005\n",
      "   7.63925856e-008]\n",
      " [ 4.83290416e-003  1.67096151e-004  8.53023775e-001  9.93137216e-001\n",
      "   1.46976204e-001  6.86218569e-003 -4.76946469e-306 -6.36071435e-011\n",
      "  -2.20086023e-012 -1.75543052e-010 -3.03696802e-011 -2.92505224e-011\n",
      "  -2.02418496e-013  9.36466233e-003  1.62012565e-003  1.88481406e-003\n",
      "   1.30432278e-005  1.61353360e-003  2.79148044e-004  1.30233203e-005\n",
      "   9.01235495e-008]\n",
      " [ 4.81605012e-003  1.83950076e-004  8.40154078e-001  9.92425071e-001\n",
      "   1.59845901e-001  7.57438540e-003  0.00000000e+000 -5.38383467e-013\n",
      "  -2.05815467e-014  6.75670893e-012  1.29149137e-012 -1.25282691e-012\n",
      "  -9.57871743e-015  8.09744085e-003  1.54776165e-003  1.82669294e-003\n",
      "   1.39663152e-005  1.54060161e-003  2.94473790e-004  1.39416836e-005\n",
      "   1.06593693e-007]\n",
      " [ 4.79724813e-003  2.02752074e-004  8.26160571e-001  9.91626094e-001\n",
      "   1.73839408e-001  8.37341328e-003  0.00000000e+000 -8.75803244e-016\n",
      "  -3.70522288e-017  3.53448922e-015  7.47660529e-016 -1.09030314e-013\n",
      "  -9.22539658e-016  6.97657286e-003  1.47577424e-003  1.76957406e-003\n",
      "   1.49729208e-005  1.46799949e-003  3.10530095e-004  1.49425020e-005\n",
      "   1.26433193e-007]\n",
      " [ 4.77622202e-003  2.23778177e-004  8.10948292e-001  9.90727061e-001\n",
      "   1.89051687e-001  9.27249197e-003  0.00000000e+000 -2.62437560e-014\n",
      "  -1.23100973e-015 -1.10257657e-014 -2.58591507e-015  5.51111384e-011\n",
      "   5.17017056e-013  5.98663774e-003  1.40406908e-003  1.71335387e-003\n",
      "   1.60735778e-005  1.39563024e-003  3.27322507e-004  1.60357586e-005\n",
      "   1.50437116e-007]\n",
      " [ 4.75264608e-003  2.47354069e-004  7.94415736e-001  9.89712054e-001\n",
      "   2.05584243e-001  1.02875420e-002  0.00000000e+000 -7.81819617e-014\n",
      "  -4.07448304e-015  5.19248922e-014  1.35304288e-014  3.62963592e-010\n",
      "   3.78319747e-012  5.11385815e-003  1.33255343e-003  1.65791892e-003\n",
      "   1.72806166e-005  1.32339858e-003  3.44847133e-004  1.72332049e-005\n",
      "   1.79623021e-007]]\n",
      "  preeq_wrms:  nan\n",
      "     preeq_t:  nan\n",
      "preeq_numsteps:  [[0 0 0]]\n",
      "preeq_numstepsB:  0.0\n",
      "preeq_status:  [[0 0 0]]\n",
      "preeq_cpu_time:  0.0\n",
      "preeq_cpu_timeB:  0.0\n",
      " posteq_wrms:  nan\n",
      "    posteq_t:  nan\n",
      "posteq_numsteps:  [[0 0 0]]\n",
      "posteq_numstepsB:  0.0\n",
      "posteq_status:  [[0 0 0]]\n",
      "posteq_cpu_time:  0.0\n",
      "posteq_cpu_timeB:  0.0\n",
      "    numsteps:  [  0 340 353 360 367 374 388 406 411 416]\n",
      " numrhsevals:  [  0 396 411 419 427 435 462 483 489 494]\n",
      "numerrtestfails:  [0 6 6 6 6 6 8 8 8 8]\n",
      "numnonlinsolvconvfails:  [0 0 0 0 0 0 0 0 0 0]\n",
      "       order:  [0 5 4 4 4 4 4 4 4 4]\n",
      "    cpu_time:  0.35200000000000004\n",
      "   numstepsB:  None\n",
      "numrhsevalsB:  None\n",
      "numerrtestfailsB:  None\n",
      "numnonlinsolvconvfailsB:  None\n",
      "   cpu_timeB:  0.0\n",
      "cpu_time_total:  0.378\n",
      "    messages:  <Swig Object of type 'std::vector< amici::LogItem > *' at 0xffff6843b4e0; [] >\n",
      "      t_last:  100.0\n"
     ]
    }
   ],
   "source": [
    "for key, value in rdata.items():\n",
    "    print(\"%12s: \" % key, value)"
   ]
  },
  {
   "cell_type": "code",
   "execution_count": 80,
   "metadata": {},
   "outputs": [
    {
     "data": {
      "text/plain": [
       "array([2.1       , 1.86127312, 1.64781234, 1.45731771, 1.28736263,\n",
       "       1.13577632, 1.00061694, 0.88014757, 0.77281459, 0.67722872])"
      ]
     },
     "execution_count": 80,
     "metadata": {},
     "output_type": "execute_result"
    }
   ],
   "source": [
    "rdata.by_id('A')"
   ]
  },
  {
   "cell_type": "code",
   "execution_count": null,
   "metadata": {},
   "outputs": [],
   "source": []
  }
 ],
 "metadata": {
  "kernelspec": {
   "display_name": "Python 3 (ipykernel)",
   "language": "python",
   "name": "python3"
  },
  "language_info": {
   "codemirror_mode": {
    "name": "ipython",
    "version": 3
   },
   "file_extension": ".py",
   "mimetype": "text/x-python",
   "name": "python",
   "nbconvert_exporter": "python",
   "pygments_lexer": "ipython3",
   "version": "3.10.12"
  }
 },
 "nbformat": 4,
 "nbformat_minor": 2
}
