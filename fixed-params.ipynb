{
 "cells": [
  {
   "cell_type": "code",
   "execution_count": 9,
   "metadata": {},
   "outputs": [
    {
     "name": "stdout",
     "output_type": "stream",
     "text": [
      "The autoreload extension is already loaded. To reload it, use:\n",
      "  %reload_ext autoreload\n"
     ]
    }
   ],
   "source": [
    "import numpy as np\n",
    "import matplotlib.pyplot as plt\n",
    "import pandas as pd\n",
    "from scipy.integrate import solve_ivp\n",
    "from scipy.optimize import curve_fit\n",
    "from PenultimateFRP import CopolymerizationModel\n",
    "%load_ext autoreload\n",
    "%autoreload 2\n",
    "\n",
    "# Define the full model function\n",
    "def model(t, kd, f, kpAA, kpAB, kpBA, kpBB, \n",
    "     kdAA, kdAB, kdBA, kdBB,\n",
    "     ktcAA, ktcAB, ktcBB,\n",
    "     ktdAA, ktdAB, ktdBB): \n",
    "    k = [kd, f, \n",
    "     kpAA, kpAB, kpBA, kpBB, \n",
    "     kdAA, kdAB, kdBA, kdBB,\n",
    "     ktcAA, ktcAB, ktcBB,\n",
    "     ktdAA, ktdAB, ktdBB]\n",
    "    cm = CopolymerizationModel(k, y0, t_span)\n",
    "    return cm.A\n",
    "\n",
    "# Modified function factory\n",
    "def create_wrapper(model_func, fixed_params, initial_guesses):\n",
    "    fit_params = [p for p in initial_guesses if p not in fixed_params]\n",
    "    fit_guesses = [initial_guesses[p] for p in fit_params]\n",
    "\n",
    "    bounds = {}\n",
    "    for key, value in zip(fit_params, fit_guesses):\n",
    "        bounds[key] = (0, 2 * value)\n",
    "    \n",
    "    keys = list(bounds.keys())\n",
    "    values = list(bounds.values())\n",
    "\n",
    "    #Initialize lower bounds and upper bounds lists\n",
    "    lower_bounds = [bound[0] for bound in values]\n",
    "    upper_bounds = [bound[1] for bound in values]\n",
    "\n",
    "    # Convert the lists to tuples\n",
    "    fit_bounds = (lower_bounds, upper_bounds)\n",
    "\n",
    "    def fit_func(x, *args):\n",
    "        params = {key: value for key, value in zip(fit_params, args)}\n",
    "        params.update(fixed_params)\n",
    "        #print(params)\n",
    "        return model_func(x, **params)\n",
    "    \n",
    "    return fit_func, fit_guesses, fit_bounds\n",
    "\n",
    "# Example usage:\n"
   ]
  },
  {
   "cell_type": "code",
   "execution_count": 10,
   "metadata": {},
   "outputs": [],
   "source": [
    "# Initiation rate constant\n",
    "kd    = 3e-06 \n",
    "f     = 0.5\n",
    "\n",
    "# Propagation rate constants\n",
    "kpAA = 2.0e+04\n",
    "kpAB = 5.0e+04\n",
    "kpBA = 4.0e+02\n",
    "kpBB = 8.0e+02\n",
    "\n",
    "# Depropagation rate constants\n",
    "kdAA = 0\n",
    "kdAB = 0\n",
    "kdBA = 0\n",
    "kdBB = 0\n",
    "kdf = 0.5\n",
    "# kdAA = kdf*kpAA\n",
    "# kdAB = kdf*kpAB\n",
    "# kdBA = kdf*kpBA\n",
    "kdBB = kdf*kpBB\n",
    "\n",
    "# Termination by combination rate constants\n",
    "# ktcAA = 2*1.5e+08\n",
    "# ktcAB = 2*5.0e+07\n",
    "# ktcBB = 2*1.5e+07\n",
    "ktcAA = 0\n",
    "ktcAB = 0\n",
    "ktcBB = 0\n",
    "\n",
    "# Termination by disproportionation rate constants\n",
    "ktdAA = 2*9.0e+06     \n",
    "ktdAB = 2*1.5e+07\n",
    "ktdBB = 2*2.0e+07\n",
    "\n",
    "k_params = {\n",
    "     'kd': kd, 'f': f,\n",
    "     'kpAA': kpAA, 'kpAB': kpAB, 'kpBA': kpBA, 'kpBB': kpBB,\n",
    "     'kdAA': kdAA, 'kdAB': kdAB, 'kdBA': kdBA, 'kdBB': kdBB,\n",
    "     'ktcAA': ktcAA, 'ktcAB': ktcAB, 'ktcBB': ktcBB,\n",
    "     'ktdAA': ktdAA, 'ktdAB': ktdAB, 'ktdBB': ktdBB\n",
    "}"
   ]
  },
  {
   "cell_type": "code",
   "execution_count": 11,
   "metadata": {},
   "outputs": [],
   "source": [
    "# Data for fitting\n",
    "num_points = 40\n",
    "t_span = [0, 60*3600]\n",
    "t = np.linspace(t_span[0], t_span[1], num_points)\n",
    "\n",
    "\n",
    "y0 = np.zeros(33)\n",
    "y0[0] = 0.005\n",
    "y0[2] = 0.9\n",
    "y0[3] = 2.1"
   ]
  },
  {
   "cell_type": "code",
   "execution_count": 12,
   "metadata": {},
   "outputs": [],
   "source": [
    "y = model(t, **k_params)\n",
    "rng = np.random.default_rng()\n",
    "y_noise = 0.02 * rng.normal(size=t.size)\n",
    "y_exp = y + y_noise"
   ]
  },
  {
   "cell_type": "code",
   "execution_count": 13,
   "metadata": {},
   "outputs": [
    {
     "name": "stdout",
     "output_type": "stream",
     "text": [
      "[3e-06, 20000.0, 50000.0, 400.0, 800.0, 18000000.0, 30000000.0, 40000000.0]\n"
     ]
    }
   ],
   "source": [
    "# Initial guesses for all parameters\n",
    "initial_guesses = k_params\n",
    "\n",
    "# Parameters to keep constant (e.g., b=1.3)\n",
    "fixed_params = {'f': f, 'kdAA': kdAA, 'kdAB': kdAB, 'kdBA': kdBA, 'kdBB': kdBB, 'ktcAA': ktcAA, 'ktcAB': ktcAB, 'ktcBB': ktcBB}\n",
    "\n",
    "fit_params = [p for p in initial_guesses if p not in fixed_params]\n",
    "adjusted_guesses = [initial_guesses[p] for p in fit_params]\n",
    "#print(unfixed_params)\n",
    "print(adjusted_guesses)"
   ]
  },
  {
   "cell_type": "code",
   "execution_count": 14,
   "metadata": {},
   "outputs": [
    {
     "name": "stdout",
     "output_type": "stream",
     "text": [
      "{'kd': 2.906046107694873e-06, 'f': 0.5, 'kpAA': 22761.75845336739, 'kpAB': 59959.496580793995, 'kpBA': 399.37657574297947, 'kpBB': 816.9931261138619, 'kdAA': 0, 'kdAB': 0, 'kdBA': 0, 'kdBB': 400.0, 'ktcAA': 0, 'ktcAB': 0, 'ktcBB': 0, 'ktdAA': 15838634.890318878, 'ktdAB': 26070743.859326843, 'ktdBB': 38954062.86985333}\n"
     ]
    }
   ],
   "source": [
    "#Create wrapper function and adjusted guesses\n",
    "wrapper_function, fit_guesses, fit_bounds = create_wrapper(model, fixed_params, initial_guesses)\n",
    "\n",
    "#Fit the model using the wrapper function\n",
    "params, cov = curve_fit(wrapper_function, t, y_exp, p0=fit_guesses, bounds=fit_bounds)\n",
    "\n",
    "final_params = {}\n",
    "counter = 0\n",
    "\n",
    "for key in k_params:\n",
    "    if key in fixed_params:\n",
    "        final_params[key] = fixed_params[key]\n",
    "        continue\n",
    "    else:\n",
    "        final_params[key] = params[counter]\n",
    "        counter += 1\n",
    "\n",
    "print(final_params)"
   ]
  },
  {
   "cell_type": "code",
   "execution_count": 15,
   "metadata": {},
   "outputs": [],
   "source": [
    "#Plot fit parameters vs. initial guesses"
   ]
  },
  {
   "cell_type": "code",
   "execution_count": 16,
   "metadata": {},
   "outputs": [
    {
     "data": {
      "text/plain": [
       "{'kd': 2.906046107694873e-06,\n",
       " 'f': 0.5,\n",
       " 'kpAA': 22761.75845336739,\n",
       " 'kpAB': 59959.496580793995,\n",
       " 'kpBA': 399.37657574297947,\n",
       " 'kpBB': 816.9931261138619,\n",
       " 'kdAA': 0,\n",
       " 'kdAB': 0,\n",
       " 'kdBA': 0,\n",
       " 'kdBB': 400.0,\n",
       " 'ktcAA': 0,\n",
       " 'ktcAB': 0,\n",
       " 'ktcBB': 0,\n",
       " 'ktdAA': 15838634.890318878,\n",
       " 'ktdAB': 26070743.859326843,\n",
       " 'ktdBB': 38954062.86985333}"
      ]
     },
     "execution_count": 16,
     "metadata": {},
     "output_type": "execute_result"
    }
   ],
   "source": [
    "final_params"
   ]
  },
  {
   "cell_type": "code",
   "execution_count": null,
   "metadata": {},
   "outputs": [],
   "source": []
  }
 ],
 "metadata": {
  "kernelspec": {
   "display_name": "kinetics",
   "language": "python",
   "name": "python3"
  },
  "language_info": {
   "codemirror_mode": {
    "name": "ipython",
    "version": 3
   },
   "file_extension": ".py",
   "mimetype": "text/x-python",
   "name": "python",
   "nbconvert_exporter": "python",
   "pygments_lexer": "ipython3",
   "version": "3.11.5"
  }
 },
 "nbformat": 4,
 "nbformat_minor": 2
}
