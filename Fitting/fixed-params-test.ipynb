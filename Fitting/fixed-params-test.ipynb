{
 "cells": [
  {
   "cell_type": "code",
   "execution_count": 37,
   "metadata": {},
   "outputs": [
    {
     "name": "stdout",
     "output_type": "stream",
     "text": [
      "[2.37418853 0.52613104]\n"
     ]
    }
   ],
   "source": [
    "import numpy as np\n",
    "from scipy.optimize import curve_fit\n",
    "\n",
    "# Define the full model function\n",
    "def model(x, a, b, c):\n",
    "    return a * np.exp(-b * x) + c\n",
    "\n",
    "# Modified function factory\n",
    "def create_wrapper(model_func, fixed_params, initial_guesses):\n",
    "    fit_params = [p for p in initial_guesses if p not in fixed_params]\n",
    "    fit_guesses = [initial_guesses[p] for p in unfixed_params]\n",
    "\n",
    "    def fit_func(x, *args):\n",
    "        params = {key: value for key, value in zip(fit_params, args)}\n",
    "        params.update(fixed_params)\n",
    "        return model_func(x, **params)\n",
    "    \n",
    "    return fit_func, fit_guesses\n",
    "\n",
    "# Example usage:\n",
    "\n",
    "true_values = {'a': 2.5, 'b': 1.3, 'c': 0.5}\n",
    "\n",
    "# Data for fitting\n",
    "xdata = np.linspace(0, 4, 50)\n",
    "ydata = model(xdata, **true_values) + 0.2 * np.random.normal(size=xdata.size)\n",
    "\n",
    "# Initial guesses for all parameters\n",
    "initial_guesses = {'a': 2.5, 'b': 1.3, 'c': 0.5}\n",
    "\n",
    "# Parameters to keep constant (e.g., b=1.3)\n",
    "fixed_params = {'b': 1.3}\n",
    "\n",
    "unfixed_params = [p for p in initial_guesses if p not in fixed_params]\n",
    "adjusted_guesses = [initial_guesses[p] for p in unfixed_params]\n",
    "#print(unfixed_params)\n",
    "#print(adjusted_guesses)\n",
    "\n",
    "#Create wrapper function and adjusted guesses\n",
    "wrapper_function, fit_guesses = create_wrapper(model, fixed_params, initial_guesses)\n",
    "\n",
    "#Fit the model using the wrapper function\n",
    "params, cov = curve_fit(wrapper_function, xdata, ydata, p0=fit_guesses)\n",
    "\n",
    "print(params)\n"
   ]
  },
  {
   "cell_type": "code",
   "execution_count": 36,
   "metadata": {},
   "outputs": [],
   "source": [
    "#Fix code to match the way we are passing in parameters\n",
    "#Recover final list of parameters with constants and fitted values\n",
    "#Look into pcov and what it does"
   ]
  }
 ],
 "metadata": {
  "kernelspec": {
   "display_name": "kinetics",
   "language": "python",
   "name": "python3"
  },
  "language_info": {
   "codemirror_mode": {
    "name": "ipython",
    "version": 3
   },
   "file_extension": ".py",
   "mimetype": "text/x-python",
   "name": "python",
   "nbconvert_exporter": "python",
   "pygments_lexer": "ipython3",
   "version": "3.11.5"
  }
 },
 "nbformat": 4,
 "nbformat_minor": 2
}
