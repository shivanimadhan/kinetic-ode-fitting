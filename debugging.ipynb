{
 "cells": [
  {
   "cell_type": "code",
   "execution_count": 621,
   "metadata": {},
   "outputs": [
    {
     "name": "stdout",
     "output_type": "stream",
     "text": [
      "The autoreload extension is already loaded. To reload it, use:\n",
      "  %reload_ext autoreload\n"
     ]
    }
   ],
   "source": [
    "import numpy as np\n",
    "import matplotlib.pyplot as plt\n",
    "import pandas as pd\n",
    "from scipy.integrate import solve_ivp\n",
    "from scipy.optimize import curve_fit\n",
    "from PenultimateFRP import CopolymerizationModel\n",
    "%load_ext autoreload\n",
    "%autoreload 2\n",
    "\n",
    "# Define the full model function\n",
    "def model(t, kd, f, kpAA, kpAB, kpBA, kpBB, \n",
    "     kdAA, kdAB, kdBA, kdBB,\n",
    "     ktcAA, ktcAB, ktcBB,\n",
    "     ktdAA, ktdAB, ktdBB): \n",
    "    k = [kd, f, \n",
    "     kpAA, kpAB, kpBA, kpBB, \n",
    "     kdAA, kdAB, kdBA, kdBB,\n",
    "     ktcAA, ktcAB, ktcBB,\n",
    "     ktdAA, ktdAB, ktdBB]\n",
    "    \n",
    "    y0[0] = 0.005\n",
    "    y0[2] = 0.5\n",
    "    y0[3] = 0.5\n",
    "    cm9 = CopolymerizationModel(k, y0, t_span)\n",
    "\n",
    "    return cm9\n",
    "\n",
    "# Modified function factory\n",
    "def create_wrapper(model_func, fixed_params, initial_guesses):\n",
    "    fit_params = [p for p in initial_guesses if p not in fixed_params]\n",
    "    fit_guesses = [initial_guesses[p] for p in fit_params]\n",
    "\n",
    "    bounds = {}\n",
    "    for key, value in zip(fit_params, fit_guesses):\n",
    "        bounds[key] = (0, 1e3 * value)\n",
    "    \n",
    "    keys = list(bounds.keys())\n",
    "    values = list(bounds.values())\n",
    "\n",
    "    #Initialize lower bounds and upper bounds lists\n",
    "    lower_bounds = [bound[0] for bound in values]\n",
    "    upper_bounds = [bound[1] for bound in values]\n",
    "\n",
    "    # Convert the lists to tuples\n",
    "    fit_bounds = (lower_bounds, upper_bounds)\n",
    "\n",
    "    def fit_func(x, *args):\n",
    "        params = {key: value for key, value in zip(fit_params, args)}\n",
    "        params.update(fixed_params)\n",
    "        #print(params)\n",
    "        return model_func(x, **params)\n",
    "    \n",
    "    return fit_func, fit_guesses, fit_bounds\n"
   ]
  },
  {
   "cell_type": "code",
   "execution_count": 622,
   "metadata": {},
   "outputs": [],
   "source": [
    "# Initiation rate constant\n",
    "kd    = 3e-06 \n",
    "f     = 0.5\n",
    "\n",
    "# Propagation rate constants\n",
    "kpAA = 2.0e+04\n",
    "kpAB = 5.0e+04\n",
    "kpBA = 4.0e+02\n",
    "kpBB = 8.0e+02\n",
    "\n",
    "# Depropagation rate constants\n",
    "kdAA = 0\n",
    "kdAB = 0\n",
    "kdBA = 0\n",
    "kdBB = 0\n",
    "kdf = 0.5\n",
    "# kdAA = kdf*kpAA\n",
    "# kdAB = kdf*kpAB\n",
    "# kdBA = kdf*kpBA\n",
    "kdBB = kdf*kpBB\n",
    "\n",
    "# Termination by combination rate constants\n",
    "# ktcAA = 2*1.5e+08\n",
    "# ktcAB = 2*5.0e+07\n",
    "# ktcBB = 2*1.5e+07\n",
    "ktcAA = 0\n",
    "ktcAB = 0\n",
    "ktcBB = 0\n",
    "\n",
    "# Termination by disproportionation rate constants\n",
    "ktdAA = 2*9.0e+06     \n",
    "ktdAB = 2*1.5e+07\n",
    "ktdBB = 2*2.0e+07\n",
    "\n",
    "k_params = {\n",
    "     'kd': kd, 'f': f,\n",
    "     'kpAA': kpAA, 'kpAB': kpAB, 'kpBA': kpBA, 'kpBB': kpBB,\n",
    "     'kdAA': kdAA, 'kdAB': kdAB, 'kdBA': kdBA, 'kdBB': kdBB,\n",
    "     'ktcAA': ktcAA, 'ktcAB': ktcAB, 'ktcBB': ktcBB,\n",
    "     'ktdAA': ktdAA, 'ktdAB': ktdAB, 'ktdBB': ktdBB\n",
    "}"
   ]
  },
  {
   "cell_type": "code",
   "execution_count": 623,
   "metadata": {},
   "outputs": [],
   "source": [
    "# Data for fitting\n",
    "num_points = 40\n",
    "t_span = [0, 60*3600]\n",
    "t = np.linspace(t_span[0], t_span[1], num_points)\n",
    "y0 = np.zeros(11)"
   ]
  },
  {
   "cell_type": "code",
   "execution_count": 624,
   "metadata": {},
   "outputs": [
    {
     "data": {
      "text/plain": [
       "  message: The solver successfully reached the end of the integration interval.\n",
       "  success: True\n",
       "   status: 0\n",
       "        t: [ 0.000e+00  1.000e-10 ...  2.157e+05  2.160e+05]\n",
       "        y: [[ 5.000e-03  5.000e-03 ...  2.618e-03  2.615e-03]\n",
       "            [ 0.000e+00  1.500e-18 ...  6.494e-12  6.504e-12]\n",
       "            ...\n",
       "            [ 0.000e+00  1.709e-33 ...  1.195e-09  1.193e-09]\n",
       "            [ 0.000e+00  3.307e-62 ...  2.374e-03  2.376e-03]]\n",
       "      sol: None\n",
       " t_events: None\n",
       " y_events: None\n",
       "     nfev: 429\n",
       "     njev: 6\n",
       "      nlu: 47"
      ]
     },
     "execution_count": 624,
     "metadata": {},
     "output_type": "execute_result"
    }
   ],
   "source": [
    "cm = model(t, **k_params)\n",
    "\n",
    "cm.mom_sol"
   ]
  },
  {
   "cell_type": "code",
   "execution_count": 625,
   "metadata": {},
   "outputs": [
    {
     "data": {
      "text/plain": [
       "(0.0, 0.015)"
      ]
     },
     "execution_count": 625,
     "metadata": {},
     "output_type": "execute_result"
    },
    {
     "data": {
      "image/png": "[encoded data removed]",
      "text/plain": [
       "<Figure size 640x480 with 1 Axes>"
      ]
     },
     "metadata": {},
     "output_type": "display_data"
    }
   ],
   "source": [
    "plt.plot(cm.mom_sol.t, cm.mom_sol.y[0], 'o-')\n",
    "plt.xlim(t_span)\n",
    "plt.ylim([0, 0.015])"
   ]
  },
  {
   "cell_type": "code",
   "execution_count": null,
   "metadata": {},
   "outputs": [],
   "source": []
  }
 ],
 "metadata": {
  "kernelspec": {
   "display_name": "kinetics",
   "language": "python",
   "name": "python3"
  },
  "language_info": {
   "codemirror_mode": {
    "name": "ipython",
    "version": 3
   },
   "file_extension": ".py",
   "mimetype": "text/x-python",
   "name": "python",
   "nbconvert_exporter": "python",
   "pygments_lexer": "ipython3",
   "version": "3.11.5"
  }
 },
 "nbformat": 4,
 "nbformat_minor": 2
}
