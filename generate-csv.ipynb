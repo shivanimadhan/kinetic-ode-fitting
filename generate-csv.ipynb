{
 "cells": [
  {
   "cell_type": "code",
   "execution_count": 12,
   "metadata": {},
   "outputs": [],
   "source": [
    "import numpy as np\n",
    "import pandas as pd\n",
    "import matplotlib.pyplot as plt\n",
    "from scipy.integrate import odeint\n",
    "from SALib.sample import saltelli, latin, fast_sampler, morris\n",
    "from SALib.sample import sobol as ssobol\n",
    "from SALib.analyze import sobol, fast, rbd_fast, delta, pawn\n",
    "from SALib.analyze.sobol import analyze\n",
    "from SALib.sample.sobol import sample\n",
    "from SALib.test_functions import Ishigami\n",
    "from tqdm import tqdm\n"
   ]
  },
  {
   "cell_type": "code",
   "execution_count": 13,
   "metadata": {},
   "outputs": [],
   "source": [
    "# Define the ODE model\n",
    "def model(y, t, params):\n",
    "    k1, k2 = params\n",
    "    dydt = [-k1 * y[0],\n",
    "            k1 * y[0] - k2 * y[1],\n",
    "            k2 * y[1]]\n",
    "    return dydt"
   ]
  },
  {
   "cell_type": "code",
   "execution_count": 14,
   "metadata": {},
   "outputs": [],
   "source": [
    "# Define parameter ranges\n",
    "ode_problem = {\n",
    "    'num_vars': 2,\n",
    "    'names': ['k1', 'k2'],\n",
    "    'bounds': [[0.1, 0.5], [0.1, 0.5]]\n",
    "}"
   ]
  },
  {
   "cell_type": "code",
   "execution_count": 15,
   "metadata": {},
   "outputs": [],
   "source": [
    "def add_data_to_large_df(time_point, small_df, large_df):\n",
    "    # Initialize a dictionary to store data to be appended\n",
    "    data = {'time_point': time_point}\n",
    "    \n",
    "    # Loop through each row in the small DataFrame and extract the needed values\n",
    "    for idx in small_df.index:\n",
    "        data[f'{idx}_delta'] = small_df.loc[idx, 'delta']\n",
    "        data[f'{idx}_delta_conf'] = small_df.loc[idx, 'delta_conf']\n",
    "        data[f'{idx}_S1'] = small_df.loc[idx, 'S1']\n",
    "        data[f'{idx}_S1_conf'] = small_df.loc[idx, 'S1_conf']\n",
    "\n",
    "    df_row = pd.DataFrame([data])\n",
    "    # Append the new row to the larger DataFrame\n",
    "    # large_df = large_df.append(df_row, ignoreIndex=True)\n",
    "    large_df = pd.concat([large_df, df_row], ignore_index=True)\n",
    "    return large_df"
   ]
  },
  {
   "cell_type": "code",
   "execution_count": 16,
   "metadata": {},
   "outputs": [],
   "source": [
    "def generate_csv(problem, sample_size, time_points, parameter, output_name, file_path):\n",
    "\n",
    "    # Create large dataframe\n",
    "    df_large = pd.DataFrame(columns=['time_point'])\n",
    "\n",
    "    # Generate samples\n",
    "    param_values = ssobol.sample(problem, sample_size)\n",
    "\n",
    "    # Define initial conditions and time points\n",
    "    y0 = [10, 0, 0]\n",
    "    t = np.linspace(0, 10, time_points)\n",
    "\n",
    "    # Run the model for each sample\n",
    "    output = np.empty([param_values.shape[0], t.size, 3])\n",
    "    for i, params in enumerate(param_values):\n",
    "        sol = odeint(model, y0, t, args=(params,))\n",
    "        output[i] = sol\n",
    "    \n",
    "    for i, t_point in tqdm(enumerate(t)):\n",
    "        if (i == 0):\n",
    "            continue\n",
    "    \n",
    "        Si = delta.analyze(problem, param_values, output[:, i, parameter])\n",
    "        df_large = add_data_to_large_df(t_point, Si.to_df(), df_large)\n",
    "\n",
    "    df_large.to_csv((file_path + '/' + output_name + '.csv'), index = False)"
   ]
  },
  {
   "cell_type": "code",
   "execution_count": 17,
   "metadata": {},
   "outputs": [
    {
     "name": "stderr",
     "output_type": "stream",
     "text": [
      "/Users/shivanimadhan/anaconda3/envs/kinetics/lib/python3.11/site-packages/scipy/stats/_qmc.py:804: UserWarning: The balance properties of Sobol' points require n to be a power of 2.\n",
      "  sample = self._random(n, workers=workers)\n",
      "0it [00:00, ?it/s]/var/folders/zh/dpvqt3794n73s3md_1fs2wmr0000gn/T/ipykernel_8061/2738944218.py:15: FutureWarning: The behavior of DataFrame concatenation with empty or all-NA entries is deprecated. In a future version, this will no longer exclude empty or all-NA columns when determining the result dtypes. To retain the old behavior, exclude the relevant entries before the concat operation.\n",
      "  large_df = pd.concat([large_df, df_row], ignore_index=True)\n",
      "100it [03:23,  2.03s/it]\n"
     ]
    }
   ],
   "source": [
    "generate_csv(ode_problem, 500, 100, 1, '1', '/Users/shivanimadhan/Documents/research/curve-fit/Experiments/Varying Sample Size/N_500')"
   ]
  },
  {
   "cell_type": "code",
   "execution_count": 18,
   "metadata": {},
   "outputs": [
    {
     "name": "stderr",
     "output_type": "stream",
     "text": [
      "/Users/shivanimadhan/anaconda3/envs/kinetics/lib/python3.11/site-packages/scipy/stats/_qmc.py:804: UserWarning: The balance properties of Sobol' points require n to be a power of 2.\n",
      "  sample = self._random(n, workers=workers)\n",
      "0it [00:00, ?it/s]/var/folders/zh/dpvqt3794n73s3md_1fs2wmr0000gn/T/ipykernel_8061/2738944218.py:15: FutureWarning: The behavior of DataFrame concatenation with empty or all-NA entries is deprecated. In a future version, this will no longer exclude empty or all-NA columns when determining the result dtypes. To retain the old behavior, exclude the relevant entries before the concat operation.\n",
      "  large_df = pd.concat([large_df, df_row], ignore_index=True)\n",
      "100it [03:02,  1.82s/it]\n",
      "/Users/shivanimadhan/anaconda3/envs/kinetics/lib/python3.11/site-packages/scipy/stats/_qmc.py:804: UserWarning: The balance properties of Sobol' points require n to be a power of 2.\n",
      "  sample = self._random(n, workers=workers)\n",
      "0it [00:00, ?it/s]/var/folders/zh/dpvqt3794n73s3md_1fs2wmr0000gn/T/ipykernel_8061/2738944218.py:15: FutureWarning: The behavior of DataFrame concatenation with empty or all-NA entries is deprecated. In a future version, this will no longer exclude empty or all-NA columns when determining the result dtypes. To retain the old behavior, exclude the relevant entries before the concat operation.\n",
      "  large_df = pd.concat([large_df, df_row], ignore_index=True)\n",
      "100it [00:47,  2.09it/s]\n",
      "/Users/shivanimadhan/anaconda3/envs/kinetics/lib/python3.11/site-packages/scipy/stats/_qmc.py:804: UserWarning: The balance properties of Sobol' points require n to be a power of 2.\n",
      "  sample = self._random(n, workers=workers)\n",
      "0it [00:00, ?it/s]/var/folders/zh/dpvqt3794n73s3md_1fs2wmr0000gn/T/ipykernel_8061/2738944218.py:15: FutureWarning: The behavior of DataFrame concatenation with empty or all-NA entries is deprecated. In a future version, this will no longer exclude empty or all-NA columns when determining the result dtypes. To retain the old behavior, exclude the relevant entries before the concat operation.\n",
      "  large_df = pd.concat([large_df, df_row], ignore_index=True)\n",
      "100it [00:49,  2.03it/s]\n",
      "/Users/shivanimadhan/anaconda3/envs/kinetics/lib/python3.11/site-packages/scipy/stats/_qmc.py:804: UserWarning: The balance properties of Sobol' points require n to be a power of 2.\n",
      "  sample = self._random(n, workers=workers)\n",
      "0it [00:00, ?it/s]/var/folders/zh/dpvqt3794n73s3md_1fs2wmr0000gn/T/ipykernel_8061/2738944218.py:15: FutureWarning: The behavior of DataFrame concatenation with empty or all-NA entries is deprecated. In a future version, this will no longer exclude empty or all-NA columns when determining the result dtypes. To retain the old behavior, exclude the relevant entries before the concat operation.\n",
      "  large_df = pd.concat([large_df, df_row], ignore_index=True)\n",
      "100it [00:48,  2.07it/s]\n",
      "/Users/shivanimadhan/anaconda3/envs/kinetics/lib/python3.11/site-packages/scipy/stats/_qmc.py:804: UserWarning: The balance properties of Sobol' points require n to be a power of 2.\n",
      "  sample = self._random(n, workers=workers)\n",
      "0it [00:00, ?it/s]/var/folders/zh/dpvqt3794n73s3md_1fs2wmr0000gn/T/ipykernel_8061/2738944218.py:15: FutureWarning: The behavior of DataFrame concatenation with empty or all-NA entries is deprecated. In a future version, this will no longer exclude empty or all-NA columns when determining the result dtypes. To retain the old behavior, exclude the relevant entries before the concat operation.\n",
      "  large_df = pd.concat([large_df, df_row], ignore_index=True)\n",
      "100it [04:26,  2.67s/it]\n",
      "/Users/shivanimadhan/anaconda3/envs/kinetics/lib/python3.11/site-packages/scipy/stats/_qmc.py:804: UserWarning: The balance properties of Sobol' points require n to be a power of 2.\n",
      "  sample = self._random(n, workers=workers)\n",
      "0it [00:00, ?it/s]/var/folders/zh/dpvqt3794n73s3md_1fs2wmr0000gn/T/ipykernel_8061/2738944218.py:15: FutureWarning: The behavior of DataFrame concatenation with empty or all-NA entries is deprecated. In a future version, this will no longer exclude empty or all-NA columns when determining the result dtypes. To retain the old behavior, exclude the relevant entries before the concat operation.\n",
      "  large_df = pd.concat([large_df, df_row], ignore_index=True)\n",
      "100it [04:20,  2.61s/it]\n",
      "/Users/shivanimadhan/anaconda3/envs/kinetics/lib/python3.11/site-packages/scipy/stats/_qmc.py:804: UserWarning: The balance properties of Sobol' points require n to be a power of 2.\n",
      "  sample = self._random(n, workers=workers)\n",
      "0it [00:00, ?it/s]/var/folders/zh/dpvqt3794n73s3md_1fs2wmr0000gn/T/ipykernel_8061/2738944218.py:15: FutureWarning: The behavior of DataFrame concatenation with empty or all-NA entries is deprecated. In a future version, this will no longer exclude empty or all-NA columns when determining the result dtypes. To retain the old behavior, exclude the relevant entries before the concat operation.\n",
      "  large_df = pd.concat([large_df, df_row], ignore_index=True)\n",
      "100it [04:20,  2.61s/it]\n"
     ]
    }
   ],
   "source": [
    "generate_csv(ode_problem, 500, 100, 0, '0', '/Users/shivanimadhan/Documents/research/curve-fit/Experiments/Varying Sample Size/N_500')\n",
    "generate_csv(ode_problem, 100, 100, 0, '0', '/Users/shivanimadhan/Documents/research/curve-fit/Experiments/Varying Sample Size/N_100')\n",
    "generate_csv(ode_problem, 100, 100, 1, '1', '/Users/shivanimadhan/Documents/research/curve-fit/Experiments/Varying Sample Size/N_100')\n",
    "generate_csv(ode_problem, 100, 100, 2, '2', '/Users/shivanimadhan/Documents/research/curve-fit/Experiments/Varying Sample Size/N_100')\n",
    "generate_csv(ode_problem, 1000, 100, 0, '0', '/Users/shivanimadhan/Documents/research/curve-fit/Experiments/Varying Sample Size/N_1000')\n",
    "generate_csv(ode_problem, 1000, 100, 1, '1', '/Users/shivanimadhan/Documents/research/curve-fit/Experiments/Varying Sample Size/N_1000')\n",
    "generate_csv(ode_problem, 1000, 100, 2, '2', '/Users/shivanimadhan/Documents/research/curve-fit/Experiments/Varying Sample Size/N_1000')"
   ]
  },
  {
   "cell_type": "code",
   "execution_count": 19,
   "metadata": {},
   "outputs": [
    {
     "name": "stderr",
     "output_type": "stream",
     "text": [
      "/Users/shivanimadhan/anaconda3/envs/kinetics/lib/python3.11/site-packages/scipy/stats/_qmc.py:804: UserWarning: The balance properties of Sobol' points require n to be a power of 2.\n",
      "  sample = self._random(n, workers=workers)\n",
      "0it [00:00, ?it/s]/var/folders/zh/dpvqt3794n73s3md_1fs2wmr0000gn/T/ipykernel_8061/2738944218.py:15: FutureWarning: The behavior of DataFrame concatenation with empty or all-NA entries is deprecated. In a future version, this will no longer exclude empty or all-NA columns when determining the result dtypes. To retain the old behavior, exclude the relevant entries before the concat operation.\n",
      "  large_df = pd.concat([large_df, df_row], ignore_index=True)\n",
      "50it [01:20,  1.60s/it]\n",
      "/Users/shivanimadhan/anaconda3/envs/kinetics/lib/python3.11/site-packages/scipy/stats/_qmc.py:804: UserWarning: The balance properties of Sobol' points require n to be a power of 2.\n",
      "  sample = self._random(n, workers=workers)\n",
      "0it [00:00, ?it/s]/var/folders/zh/dpvqt3794n73s3md_1fs2wmr0000gn/T/ipykernel_8061/2738944218.py:15: FutureWarning: The behavior of DataFrame concatenation with empty or all-NA entries is deprecated. In a future version, this will no longer exclude empty or all-NA columns when determining the result dtypes. To retain the old behavior, exclude the relevant entries before the concat operation.\n",
      "  large_df = pd.concat([large_df, df_row], ignore_index=True)\n",
      "50it [01:09,  1.40s/it]\n",
      "/Users/shivanimadhan/anaconda3/envs/kinetics/lib/python3.11/site-packages/scipy/stats/_qmc.py:804: UserWarning: The balance properties of Sobol' points require n to be a power of 2.\n",
      "  sample = self._random(n, workers=workers)\n",
      "0it [00:00, ?it/s]/var/folders/zh/dpvqt3794n73s3md_1fs2wmr0000gn/T/ipykernel_8061/2738944218.py:15: FutureWarning: The behavior of DataFrame concatenation with empty or all-NA entries is deprecated. In a future version, this will no longer exclude empty or all-NA columns when determining the result dtypes. To retain the old behavior, exclude the relevant entries before the concat operation.\n",
      "  large_df = pd.concat([large_df, df_row], ignore_index=True)\n",
      "50it [01:03,  1.28s/it]\n",
      "/Users/shivanimadhan/anaconda3/envs/kinetics/lib/python3.11/site-packages/scipy/stats/_qmc.py:804: UserWarning: The balance properties of Sobol' points require n to be a power of 2.\n",
      "  sample = self._random(n, workers=workers)\n",
      "0it [00:00, ?it/s]/var/folders/zh/dpvqt3794n73s3md_1fs2wmr0000gn/T/ipykernel_8061/2738944218.py:15: FutureWarning: The behavior of DataFrame concatenation with empty or all-NA entries is deprecated. In a future version, this will no longer exclude empty or all-NA columns when determining the result dtypes. To retain the old behavior, exclude the relevant entries before the concat operation.\n",
      "  large_df = pd.concat([large_df, df_row], ignore_index=True)\n",
      "100it [02:05,  1.26s/it]\n",
      "/Users/shivanimadhan/anaconda3/envs/kinetics/lib/python3.11/site-packages/scipy/stats/_qmc.py:804: UserWarning: The balance properties of Sobol' points require n to be a power of 2.\n",
      "  sample = self._random(n, workers=workers)\n",
      "0it [00:00, ?it/s]/var/folders/zh/dpvqt3794n73s3md_1fs2wmr0000gn/T/ipykernel_8061/2738944218.py:15: FutureWarning: The behavior of DataFrame concatenation with empty or all-NA entries is deprecated. In a future version, this will no longer exclude empty or all-NA columns when determining the result dtypes. To retain the old behavior, exclude the relevant entries before the concat operation.\n",
      "  large_df = pd.concat([large_df, df_row], ignore_index=True)\n",
      "100it [02:13,  1.33s/it]\n",
      "/Users/shivanimadhan/anaconda3/envs/kinetics/lib/python3.11/site-packages/scipy/stats/_qmc.py:804: UserWarning: The balance properties of Sobol' points require n to be a power of 2.\n",
      "  sample = self._random(n, workers=workers)\n",
      "0it [00:00, ?it/s]/var/folders/zh/dpvqt3794n73s3md_1fs2wmr0000gn/T/ipykernel_8061/2738944218.py:15: FutureWarning: The behavior of DataFrame concatenation with empty or all-NA entries is deprecated. In a future version, this will no longer exclude empty or all-NA columns when determining the result dtypes. To retain the old behavior, exclude the relevant entries before the concat operation.\n",
      "  large_df = pd.concat([large_df, df_row], ignore_index=True)\n",
      "100it [02:12,  1.33s/it]\n",
      "/Users/shivanimadhan/anaconda3/envs/kinetics/lib/python3.11/site-packages/scipy/stats/_qmc.py:804: UserWarning: The balance properties of Sobol' points require n to be a power of 2.\n",
      "  sample = self._random(n, workers=workers)\n",
      "0it [00:00, ?it/s]/var/folders/zh/dpvqt3794n73s3md_1fs2wmr0000gn/T/ipykernel_8061/2738944218.py:15: FutureWarning: The behavior of DataFrame concatenation with empty or all-NA entries is deprecated. In a future version, this will no longer exclude empty or all-NA columns when determining the result dtypes. To retain the old behavior, exclude the relevant entries before the concat operation.\n",
      "  large_df = pd.concat([large_df, df_row], ignore_index=True)\n",
      "200it [04:57,  1.49s/it]\n",
      "/Users/shivanimadhan/anaconda3/envs/kinetics/lib/python3.11/site-packages/scipy/stats/_qmc.py:804: UserWarning: The balance properties of Sobol' points require n to be a power of 2.\n",
      "  sample = self._random(n, workers=workers)\n",
      "0it [00:00, ?it/s]/var/folders/zh/dpvqt3794n73s3md_1fs2wmr0000gn/T/ipykernel_8061/2738944218.py:15: FutureWarning: The behavior of DataFrame concatenation with empty or all-NA entries is deprecated. In a future version, this will no longer exclude empty or all-NA columns when determining the result dtypes. To retain the old behavior, exclude the relevant entries before the concat operation.\n",
      "  large_df = pd.concat([large_df, df_row], ignore_index=True)\n",
      "200it [2:17:30, 41.25s/it] \n",
      "/Users/shivanimadhan/anaconda3/envs/kinetics/lib/python3.11/site-packages/scipy/stats/_qmc.py:804: UserWarning: The balance properties of Sobol' points require n to be a power of 2.\n",
      "  sample = self._random(n, workers=workers)\n",
      "0it [00:00, ?it/s]/var/folders/zh/dpvqt3794n73s3md_1fs2wmr0000gn/T/ipykernel_8061/2738944218.py:15: FutureWarning: The behavior of DataFrame concatenation with empty or all-NA entries is deprecated. In a future version, this will no longer exclude empty or all-NA columns when determining the result dtypes. To retain the old behavior, exclude the relevant entries before the concat operation.\n",
      "  large_df = pd.concat([large_df, df_row], ignore_index=True)\n",
      "200it [1:12:55, 21.88s/it] \n"
     ]
    }
   ],
   "source": [
    "generate_csv(ode_problem, 500, 50, 0, '0', '/Users/shivanimadhan/Documents/research/curve-fit/Experiments/Varying Time Points/T_50')\n",
    "generate_csv(ode_problem, 500, 50, 1, '1', '/Users/shivanimadhan/Documents/research/curve-fit/Experiments/Varying Time Points/T_50')\n",
    "generate_csv(ode_problem, 500, 50, 2, '2', '/Users/shivanimadhan/Documents/research/curve-fit/Experiments/Varying Time Points/T_50')\n",
    "generate_csv(ode_problem, 500, 100, 0, '0', '/Users/shivanimadhan/Documents/research/curve-fit/Experiments/Varying Time Points/T_100')\n",
    "generate_csv(ode_problem, 500, 100, 1, '1', '/Users/shivanimadhan/Documents/research/curve-fit/Experiments/Varying Time Points/T_100')\n",
    "generate_csv(ode_problem, 500, 100, 2, '2', '/Users/shivanimadhan/Documents/research/curve-fit/Experiments/Varying Time Points/T_100')\n",
    "generate_csv(ode_problem, 500, 200, 0, '0', '/Users/shivanimadhan/Documents/research/curve-fit/Experiments/Varying Time Points/T_200')\n",
    "generate_csv(ode_problem, 500, 200, 1, '1', '/Users/shivanimadhan/Documents/research/curve-fit/Experiments/Varying Time Points/T_200')\n",
    "generate_csv(ode_problem, 500, 200, 2, '2', '/Users/shivanimadhan/Documents/research/curve-fit/Experiments/Varying Time Points/T_200')"
   ]
  },
  {
   "cell_type": "code",
   "execution_count": null,
   "metadata": {},
   "outputs": [],
   "source": []
  }
 ],
 "metadata": {
  "kernelspec": {
   "display_name": "kinetics",
   "language": "python",
   "name": "python3"
  },
  "language_info": {
   "codemirror_mode": {
    "name": "ipython",
    "version": 3
   },
   "file_extension": ".py",
   "mimetype": "text/x-python",
   "name": "python",
   "nbconvert_exporter": "python",
   "pygments_lexer": "ipython3",
   "version": "3.11.5"
  }
 },
 "nbformat": 4,
 "nbformat_minor": 2
}
