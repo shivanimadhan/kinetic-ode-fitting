{
 "cells": [
  {
   "cell_type": "code",
   "execution_count": 1,
   "metadata": {},
   "outputs": [
    {
     "name": "stdout",
     "output_type": "stream",
     "text": [
      "The tests rely on tellurium to construct the models\n",
      "Since tellurium is not installed the tests can't be run\n",
      "If you want to run the tests, pip install tellurium first\n"
     ]
    }
   ],
   "source": [
    "import sys\n",
    "from sbml import create_model, outputSBML, check\n",
    "from libsbml import *\n",
    "import SBMLDiagrams\n",
    "%load_ext autoreload\n",
    "%autoreload 2"
   ]
  },
  {
   "cell_type": "markdown",
   "metadata": {},
   "source": [
    "### Initialize Model"
   ]
  },
  {
   "cell_type": "code",
   "execution_count": 2,
   "metadata": {},
   "outputs": [],
   "source": [
    "try:\n",
    "    document = SBMLDocument(3, 1)\n",
    "except ValueError:\n",
    "    raise SystemExit('Could not create SBMLDocumention object')\n",
    "\n",
    "model = document.createModel()"
   ]
  },
  {
   "cell_type": "markdown",
   "metadata": {},
   "source": [
    "### Define Units"
   ]
  },
  {
   "cell_type": "code",
   "execution_count": 3,
   "metadata": {},
   "outputs": [],
   "source": [
    "# Create the basic Model object inside the SBMLDocument object.  To\n",
    "# produce a model with complete units for the reaction rates, we need\n",
    "# to set the 'timeUnits' and 'extentUnits' attributes on Model.  We\n",
    "# set 'substanceUnits' too, for good measure, though it's not strictly\n",
    "# necessary here because we also set the units for invididual species\n",
    "# in their definitions.\n",
    "\n",
    "check(model,                              'create model')\n",
    "check(model.setTimeUnits(\"second\"),       'set model-wide time units')\n",
    "check(model.setExtentUnits(\"mole\"),       'set model units of extent')\n",
    "check(model.setSubstanceUnits('mole'),    'set model substance units')\n",
    "\n",
    "# Create a unit definition we will need later.  Note that SBML Unit\n",
    "# objects must have all four attributes 'kind', 'exponent', 'scale'\n",
    "# and 'multiplier' defined.\n",
    "\n",
    "per_second = model.createUnitDefinition()\n",
    "check(per_second,                         'create unit definition')\n",
    "check(per_second.setId('per_second'),     'set unit definition id')\n",
    "unit = per_second.createUnit()\n",
    "check(unit,                               'create unit on per_second')\n",
    "check(unit.setKind(UNIT_KIND_SECOND),     'set unit kind')\n",
    "check(unit.setExponent(-1),               'set unit exponent')\n",
    "check(unit.setScale(0),                   'set unit scale')\n",
    "check(unit.setMultiplier(1),              'set unit multiplier')"
   ]
  },
  {
   "cell_type": "markdown",
   "metadata": {},
   "source": [
    "### Define Compartment"
   ]
  },
  {
   "cell_type": "code",
   "execution_count": 4,
   "metadata": {},
   "outputs": [],
   "source": [
    "# Create a compartment inside this model, and set the required\n",
    "# attributes for an SBML compartment in SBML Level 3.\n",
    "\n",
    "c1 = model.createCompartment()\n",
    "check(c1,                                 'create compartment')\n",
    "check(c1.setId('c1'),                     'set compartment id')\n",
    "check(c1.setConstant(True),               'set compartment \"constant\"')\n",
    "check(c1.setSize(1),                      'set compartment \"size\"')\n",
    "check(c1.setSpatialDimensions(3),         'set compartment dimensions')\n",
    "check(c1.setUnits('litre'),               'set compartment size units')"
   ]
  },
  {
   "cell_type": "markdown",
   "metadata": {},
   "source": [
    "### Define Species"
   ]
  },
  {
   "cell_type": "code",
   "execution_count": 5,
   "metadata": {},
   "outputs": [],
   "source": [
    "# Create two species inside this model, set the required attributes\n",
    "# for each species in SBML Level 3 (which are the 'id', 'compartment',\n",
    "# 'constant', 'hasOnlySubstanceUnits', and 'boundaryCondition'\n",
    "# attributes), and initialize the amount of the species along with the\n",
    "# units of the amount.\n",
    "\n",
    "s1 = model.createSpecies()\n",
    "check(s1,                                 'create species s1')\n",
    "check(s1.setId('s1'),                     'set species s1 id')\n",
    "check(s1.setCompartment(c1.id),           'set species s1 compartment')\n",
    "check(s1.setConstant(False),              'set \"constant\" attribute on s1')\n",
    "check(s1.setInitialAmount(5),             'set initial amount for s1')\n",
    "check(s1.setSubstanceUnits('mole'),       'set substance units for s1')\n",
    "check(s1.setBoundaryCondition(False),     'set \"boundaryCondition\" on s1')\n",
    "check(s1.setHasOnlySubstanceUnits(False), 'set \"hasOnlySubstanceUnits\" on s1')\n",
    "\n",
    "s2 = model.createSpecies()\n",
    "check(s2,                                 'create species s2')\n",
    "check(s2.setId('s2'),                     'set species s2 id')\n",
    "check(s2.setCompartment(c1.id),            'set species s2 compartment')\n",
    "check(s2.setConstant(False),              'set \"constant\" attribute on s2')\n",
    "check(s2.setInitialAmount(0),             'set initial amount for s2')\n",
    "check(s2.setSubstanceUnits('mole'),       'set substance units for s2')\n",
    "check(s2.setBoundaryCondition(False),     'set \"boundaryCondition\" on s2')\n",
    "check(s2.setHasOnlySubstanceUnits(False), 'set \"hasOnlySubstanceUnits\" on s2')"
   ]
  },
  {
   "cell_type": "markdown",
   "metadata": {},
   "source": [
    "### Define Parameters (Rate Constants)"
   ]
  },
  {
   "cell_type": "code",
   "execution_count": 6,
   "metadata": {},
   "outputs": [],
   "source": [
    "# Create a parameter object inside this model, set the required\n",
    "# attributes 'id' and 'constant' for a parameter in SBML Level 3, and\n",
    "# initialize the parameter with a value along with its units.\n",
    "\n",
    "k = model.createParameter()\n",
    "check(k,                                  'create parameter k')\n",
    "check(k.setId('k'),                       'set parameter k id')\n",
    "check(k.setConstant(True),                'set parameter k \"constant\"')\n",
    "check(k.setValue(1),                      'set parameter k value')\n",
    "check(k.setUnits('per_second'),           'set parameter k units')"
   ]
  },
  {
   "cell_type": "markdown",
   "metadata": {},
   "source": [
    "### Define Reactions"
   ]
  },
  {
   "cell_type": "code",
   "execution_count": 7,
   "metadata": {},
   "outputs": [],
   "source": [
    "# Create a reaction inside this model, set the reactants and products,\n",
    "# and set the reaction rate expression (the SBML \"kinetic law\").  We\n",
    "# set the minimum required attributes for all of these objects.  The\n",
    "# units of the reaction rate are determined from the 'timeUnits' and\n",
    "# 'extentUnits' attributes on the Model object.\n",
    "\n",
    "r1 = model.createReaction()\n",
    "check(r1,                                 'create reaction')\n",
    "check(r1.setId('r1'),                     'set reaction id')\n",
    "check(r1.setReversible(False),            'set reaction reversibility flag')\n",
    "check(r1.setFast(False),                  'set reaction \"fast\" attribute')\n",
    "\n",
    "species_ref1 = r1.createReactant()\n",
    "check(species_ref1,                       'create reactant')\n",
    "check(species_ref1.setSpecies('s1'),      'assign reactant species')\n",
    "check(species_ref1.setConstant(True),     'set \"constant\" on species ref 1')\n",
    "\n",
    "species_ref2 = r1.createProduct()\n",
    "check(species_ref2,                       'create product')\n",
    "check(species_ref2.setSpecies('s2'),      'assign product species')\n",
    "check(species_ref2.setConstant(True),     'set \"constant\" on species ref 2')\n",
    "\n",
    "math_ast = parseL3Formula('k * s1 * c1')\n",
    "check(math_ast,                           'create AST for rate expression')\n",
    "\n",
    "kinetic_law = r1.createKineticLaw()\n",
    "check(kinetic_law,                        'create kinetic law')\n",
    "check(kinetic_law.setMath(math_ast),      'set math on kinetic law')"
   ]
  },
  {
   "cell_type": "markdown",
   "metadata": {},
   "source": [
    "### Output SBML File"
   ]
  },
  {
   "cell_type": "code",
   "execution_count": 8,
   "metadata": {},
   "outputs": [],
   "source": [
    "model_xml_string = writeSBMLToString(document)\n",
    "model_filename = 'sbml_test.xml'\n",
    "outputSBML(model_xml_string, model_filename)"
   ]
  },
  {
   "cell_type": "markdown",
   "metadata": {},
   "source": [
    "### Visualize SBML"
   ]
  },
  {
   "cell_type": "code",
   "execution_count": 10,
   "metadata": {},
   "outputs": [
    {
     "ename": "ValueError",
     "evalue": "Could not save to JPEG for display",
     "output_type": "error",
     "traceback": [
      "\u001b[0;31m---------------------------------------------------------------------------\u001b[0m",
      "\u001b[0;31mKeyError\u001b[0m                                  Traceback (most recent call last)",
      "File \u001b[0;32m~/anaconda3/envs/kinetics/lib/python3.11/site-packages/PIL/JpegImagePlugin.py:639\u001b[0m, in \u001b[0;36m_save\u001b[0;34m(im, fp, filename)\u001b[0m\n\u001b[1;32m    638\u001b[0m \u001b[38;5;28;01mtry\u001b[39;00m:\n\u001b[0;32m--> 639\u001b[0m     rawmode \u001b[38;5;241m=\u001b[39m \u001b[43mRAWMODE\u001b[49m\u001b[43m[\u001b[49m\u001b[43mim\u001b[49m\u001b[38;5;241;43m.\u001b[39;49m\u001b[43mmode\u001b[49m\u001b[43m]\u001b[49m\n\u001b[1;32m    640\u001b[0m \u001b[38;5;28;01mexcept\u001b[39;00m \u001b[38;5;167;01mKeyError\u001b[39;00m \u001b[38;5;28;01mas\u001b[39;00m e:\n",
      "\u001b[0;31mKeyError\u001b[0m: 'RGBA'",
      "\nThe above exception was the direct cause of the following exception:\n",
      "\u001b[0;31mOSError\u001b[0m                                   Traceback (most recent call last)",
      "File \u001b[0;32m~/anaconda3/envs/kinetics/lib/python3.11/site-packages/PIL/Image.py:643\u001b[0m, in \u001b[0;36mImage._repr_image\u001b[0;34m(self, image_format, **kwargs)\u001b[0m\n\u001b[1;32m    642\u001b[0m \u001b[38;5;28;01mtry\u001b[39;00m:\n\u001b[0;32m--> 643\u001b[0m     \u001b[38;5;28;43mself\u001b[39;49m\u001b[38;5;241;43m.\u001b[39;49m\u001b[43msave\u001b[49m\u001b[43m(\u001b[49m\u001b[43mb\u001b[49m\u001b[43m,\u001b[49m\u001b[43m \u001b[49m\u001b[43mimage_format\u001b[49m\u001b[43m,\u001b[49m\u001b[43m \u001b[49m\u001b[38;5;241;43m*\u001b[39;49m\u001b[38;5;241;43m*\u001b[39;49m\u001b[43mkwargs\u001b[49m\u001b[43m)\u001b[49m\n\u001b[1;32m    644\u001b[0m \u001b[38;5;28;01mexcept\u001b[39;00m \u001b[38;5;167;01mException\u001b[39;00m \u001b[38;5;28;01mas\u001b[39;00m e:\n",
      "File \u001b[0;32m~/anaconda3/envs/kinetics/lib/python3.11/site-packages/PIL/Image.py:2413\u001b[0m, in \u001b[0;36mImage.save\u001b[0;34m(self, fp, format, **params)\u001b[0m\n\u001b[1;32m   2412\u001b[0m \u001b[38;5;28;01mtry\u001b[39;00m:\n\u001b[0;32m-> 2413\u001b[0m     \u001b[43msave_handler\u001b[49m\u001b[43m(\u001b[49m\u001b[38;5;28;43mself\u001b[39;49m\u001b[43m,\u001b[49m\u001b[43m \u001b[49m\u001b[43mfp\u001b[49m\u001b[43m,\u001b[49m\u001b[43m \u001b[49m\u001b[43mfilename\u001b[49m\u001b[43m)\u001b[49m\n\u001b[1;32m   2414\u001b[0m \u001b[38;5;28;01mexcept\u001b[39;00m \u001b[38;5;167;01mException\u001b[39;00m:\n",
      "File \u001b[0;32m~/anaconda3/envs/kinetics/lib/python3.11/site-packages/PIL/JpegImagePlugin.py:642\u001b[0m, in \u001b[0;36m_save\u001b[0;34m(im, fp, filename)\u001b[0m\n\u001b[1;32m    641\u001b[0m     msg \u001b[38;5;241m=\u001b[39m \u001b[38;5;124mf\u001b[39m\u001b[38;5;124m\"\u001b[39m\u001b[38;5;124mcannot write mode \u001b[39m\u001b[38;5;132;01m{\u001b[39;00mim\u001b[38;5;241m.\u001b[39mmode\u001b[38;5;132;01m}\u001b[39;00m\u001b[38;5;124m as JPEG\u001b[39m\u001b[38;5;124m\"\u001b[39m\n\u001b[0;32m--> 642\u001b[0m     \u001b[38;5;28;01mraise\u001b[39;00m \u001b[38;5;167;01mOSError\u001b[39;00m(msg) \u001b[38;5;28;01mfrom\u001b[39;00m \u001b[38;5;21;01me\u001b[39;00m\n\u001b[1;32m    644\u001b[0m info \u001b[38;5;241m=\u001b[39m im\u001b[38;5;241m.\u001b[39mencoderinfo\n",
      "\u001b[0;31mOSError\u001b[0m: cannot write mode RGBA as JPEG",
      "\nThe above exception was the direct cause of the following exception:\n",
      "\u001b[0;31mValueError\u001b[0m                                Traceback (most recent call last)",
      "File \u001b[0;32m~/anaconda3/envs/kinetics/lib/python3.11/site-packages/IPython/core/formatters.py:344\u001b[0m, in \u001b[0;36mBaseFormatter.__call__\u001b[0;34m(self, obj)\u001b[0m\n\u001b[1;32m    342\u001b[0m     method \u001b[38;5;241m=\u001b[39m get_real_method(obj, \u001b[38;5;28mself\u001b[39m\u001b[38;5;241m.\u001b[39mprint_method)\n\u001b[1;32m    343\u001b[0m     \u001b[38;5;28;01mif\u001b[39;00m method \u001b[38;5;129;01mis\u001b[39;00m \u001b[38;5;129;01mnot\u001b[39;00m \u001b[38;5;28;01mNone\u001b[39;00m:\n\u001b[0;32m--> 344\u001b[0m         \u001b[38;5;28;01mreturn\u001b[39;00m \u001b[43mmethod\u001b[49m\u001b[43m(\u001b[49m\u001b[43m)\u001b[49m\n\u001b[1;32m    345\u001b[0m     \u001b[38;5;28;01mreturn\u001b[39;00m \u001b[38;5;28;01mNone\u001b[39;00m\n\u001b[1;32m    346\u001b[0m \u001b[38;5;28;01melse\u001b[39;00m:\n",
      "File \u001b[0;32m~/anaconda3/envs/kinetics/lib/python3.11/site-packages/PIL/Image.py:661\u001b[0m, in \u001b[0;36mImage._repr_jpeg_\u001b[0;34m(self)\u001b[0m\n\u001b[1;32m    656\u001b[0m \u001b[38;5;28;01mdef\u001b[39;00m \u001b[38;5;21m_repr_jpeg_\u001b[39m(\u001b[38;5;28mself\u001b[39m):\n\u001b[1;32m    657\u001b[0m \u001b[38;5;250m    \u001b[39m\u001b[38;5;124;03m\"\"\"iPython display hook support for JPEG format.\u001b[39;00m\n\u001b[1;32m    658\u001b[0m \n\u001b[1;32m    659\u001b[0m \u001b[38;5;124;03m    :returns: JPEG version of the image as bytes\u001b[39;00m\n\u001b[1;32m    660\u001b[0m \u001b[38;5;124;03m    \"\"\"\u001b[39;00m\n\u001b[0;32m--> 661\u001b[0m     \u001b[38;5;28;01mreturn\u001b[39;00m \u001b[38;5;28;43mself\u001b[39;49m\u001b[38;5;241;43m.\u001b[39;49m\u001b[43m_repr_image\u001b[49m\u001b[43m(\u001b[49m\u001b[38;5;124;43m\"\u001b[39;49m\u001b[38;5;124;43mJPEG\u001b[39;49m\u001b[38;5;124;43m\"\u001b[39;49m\u001b[43m)\u001b[49m\n",
      "File \u001b[0;32m~/anaconda3/envs/kinetics/lib/python3.11/site-packages/PIL/Image.py:646\u001b[0m, in \u001b[0;36mImage._repr_image\u001b[0;34m(self, image_format, **kwargs)\u001b[0m\n\u001b[1;32m    644\u001b[0m \u001b[38;5;28;01mexcept\u001b[39;00m \u001b[38;5;167;01mException\u001b[39;00m \u001b[38;5;28;01mas\u001b[39;00m e:\n\u001b[1;32m    645\u001b[0m     msg \u001b[38;5;241m=\u001b[39m \u001b[38;5;124mf\u001b[39m\u001b[38;5;124m\"\u001b[39m\u001b[38;5;124mCould not save to \u001b[39m\u001b[38;5;132;01m{\u001b[39;00mimage_format\u001b[38;5;132;01m}\u001b[39;00m\u001b[38;5;124m for display\u001b[39m\u001b[38;5;124m\"\u001b[39m\n\u001b[0;32m--> 646\u001b[0m     \u001b[38;5;28;01mraise\u001b[39;00m \u001b[38;5;167;01mValueError\u001b[39;00m(msg) \u001b[38;5;28;01mfrom\u001b[39;00m \u001b[38;5;21;01me\u001b[39;00m\n\u001b[1;32m    647\u001b[0m \u001b[38;5;28;01mreturn\u001b[39;00m b\u001b[38;5;241m.\u001b[39mgetvalue()\n",
      "\u001b[0;31mValueError\u001b[0m: Could not save to JPEG for display"
     ]
    },
    {
     "data": {
      "image/png": "[encoded data removed]",
      "text/plain": [
       "<PIL.PngImagePlugin.PngImageFile image mode=RGBA size=479x368>"
      ]
     },
     "metadata": {},
     "output_type": "display_data"
    }
   ],
   "source": [
    "df = SBMLDiagrams.load(model_filename)\n",
    "df.autolayout()\n",
    "df.draw(output_fileName='sbml_test.png')"
   ]
  },
  {
   "cell_type": "code",
   "execution_count": null,
   "metadata": {},
   "outputs": [],
   "source": []
  }
 ],
 "metadata": {
  "kernelspec": {
   "display_name": "hybrid",
   "language": "python",
   "name": "python3"
  },
  "language_info": {
   "codemirror_mode": {
    "name": "ipython",
    "version": 3
   },
   "file_extension": ".py",
   "mimetype": "text/x-python",
   "name": "python",
   "nbconvert_exporter": "python",
   "pygments_lexer": "ipython3",
   "version": "3.11.5"
  }
 },
 "nbformat": 4,
 "nbformat_minor": 2
}
